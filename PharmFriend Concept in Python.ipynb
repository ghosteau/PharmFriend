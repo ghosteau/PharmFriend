{
 "cells": [
  {
   "cell_type": "code",
   "execution_count": 86,
   "id": "0a56d58a",
   "metadata": {},
   "outputs": [],
   "source": [
    "from sklearn import tree\n",
    "import pandas as pd\n",
    "import numpy as np\n",
    "from sklearn.metrics import accuracy_score\n",
    "import matplotlib.pyplot as plt"
   ]
  },
  {
   "cell_type": "code",
   "execution_count": 87,
   "id": "715e812f",
   "metadata": {},
   "outputs": [],
   "source": [
    "data = pd.read_csv(\"drug200.csv\")"
   ]
  },
  {
   "cell_type": "code",
   "execution_count": 88,
   "id": "d37e9a7b",
   "metadata": {},
   "outputs": [
    {
     "data": {
      "text/html": [
       "<div>\n",
       "<style scoped>\n",
       "    .dataframe tbody tr th:only-of-type {\n",
       "        vertical-align: middle;\n",
       "    }\n",
       "\n",
       "    .dataframe tbody tr th {\n",
       "        vertical-align: top;\n",
       "    }\n",
       "\n",
       "    .dataframe thead th {\n",
       "        text-align: right;\n",
       "    }\n",
       "</style>\n",
       "<table border=\"1\" class=\"dataframe\">\n",
       "  <thead>\n",
       "    <tr style=\"text-align: right;\">\n",
       "      <th></th>\n",
       "      <th>Age</th>\n",
       "      <th>Sex</th>\n",
       "      <th>BP</th>\n",
       "      <th>Cholesterol</th>\n",
       "      <th>Na_to_K</th>\n",
       "      <th>Drug</th>\n",
       "    </tr>\n",
       "  </thead>\n",
       "  <tbody>\n",
       "    <tr>\n",
       "      <th>0</th>\n",
       "      <td>23</td>\n",
       "      <td>F</td>\n",
       "      <td>HIGH</td>\n",
       "      <td>HIGH</td>\n",
       "      <td>25.355</td>\n",
       "      <td>DrugY</td>\n",
       "    </tr>\n",
       "    <tr>\n",
       "      <th>1</th>\n",
       "      <td>47</td>\n",
       "      <td>M</td>\n",
       "      <td>LOW</td>\n",
       "      <td>HIGH</td>\n",
       "      <td>13.093</td>\n",
       "      <td>drugC</td>\n",
       "    </tr>\n",
       "    <tr>\n",
       "      <th>2</th>\n",
       "      <td>47</td>\n",
       "      <td>M</td>\n",
       "      <td>LOW</td>\n",
       "      <td>HIGH</td>\n",
       "      <td>10.114</td>\n",
       "      <td>drugC</td>\n",
       "    </tr>\n",
       "    <tr>\n",
       "      <th>3</th>\n",
       "      <td>28</td>\n",
       "      <td>F</td>\n",
       "      <td>NORMAL</td>\n",
       "      <td>HIGH</td>\n",
       "      <td>7.798</td>\n",
       "      <td>drugX</td>\n",
       "    </tr>\n",
       "    <tr>\n",
       "      <th>4</th>\n",
       "      <td>61</td>\n",
       "      <td>F</td>\n",
       "      <td>LOW</td>\n",
       "      <td>HIGH</td>\n",
       "      <td>18.043</td>\n",
       "      <td>DrugY</td>\n",
       "    </tr>\n",
       "  </tbody>\n",
       "</table>\n",
       "</div>"
      ],
      "text/plain": [
       "   Age Sex      BP Cholesterol  Na_to_K   Drug\n",
       "0   23   F    HIGH        HIGH   25.355  DrugY\n",
       "1   47   M     LOW        HIGH   13.093  drugC\n",
       "2   47   M     LOW        HIGH   10.114  drugC\n",
       "3   28   F  NORMAL        HIGH    7.798  drugX\n",
       "4   61   F     LOW        HIGH   18.043  DrugY"
      ]
     },
     "execution_count": 88,
     "metadata": {},
     "output_type": "execute_result"
    }
   ],
   "source": [
    "data.head()"
   ]
  },
  {
   "cell_type": "code",
   "execution_count": 89,
   "id": "0d7fe139",
   "metadata": {},
   "outputs": [],
   "source": [
    "X = data[[\"Age\", \"Sex\", \"BP\", \"Na_to_K\"]]\n",
    "X = pd.get_dummies(X, columns=[\"Sex\", \"BP\"], drop_first=True)\n",
    "Y = data[[\"Drug\"]]"
   ]
  },
  {
   "cell_type": "code",
   "execution_count": 90,
   "id": "9b109db3",
   "metadata": {},
   "outputs": [
    {
     "data": {
      "text/plain": [
       "(array([91.,  0.,  0.,  0.,  0.,  0.,  0., 16.,  0.,  0.,  0.,  0.,  0.,\n",
       "         0.,  0., 54.,  0.,  0.,  0.,  0.,  0.,  0., 23.,  0.,  0.,  0.,\n",
       "         0.,  0.,  0., 16.]),\n",
       " array([0.        , 0.13333333, 0.26666667, 0.4       , 0.53333333,\n",
       "        0.66666667, 0.8       , 0.93333333, 1.06666667, 1.2       ,\n",
       "        1.33333333, 1.46666667, 1.6       , 1.73333333, 1.86666667,\n",
       "        2.        , 2.13333333, 2.26666667, 2.4       , 2.53333333,\n",
       "        2.66666667, 2.8       , 2.93333333, 3.06666667, 3.2       ,\n",
       "        3.33333333, 3.46666667, 3.6       , 3.73333333, 3.86666667,\n",
       "        4.        ]),\n",
       " <BarContainer object of 30 artists>)"
      ]
     },
     "execution_count": 90,
     "metadata": {},
     "output_type": "execute_result"
    },
    {
     "data": {
      "image/png": "[encoded data removed]",
      "text/plain": [
       "<Figure size 640x480 with 1 Axes>"
      ]
     },
     "metadata": {},
     "output_type": "display_data"
    }
   ],
   "source": [
    "plt.hist(Y, bins=30, color=\"red\", edgecolor='black')"
   ]
  },
  {
   "cell_type": "code",
   "execution_count": 91,
   "id": "33b8cd45",
   "metadata": {},
   "outputs": [
    {
     "data": {
      "text/html": [
       "<div>\n",
       "<style scoped>\n",
       "    .dataframe tbody tr th:only-of-type {\n",
       "        vertical-align: middle;\n",
       "    }\n",
       "\n",
       "    .dataframe tbody tr th {\n",
       "        vertical-align: top;\n",
       "    }\n",
       "\n",
       "    .dataframe thead th {\n",
       "        text-align: right;\n",
       "    }\n",
       "</style>\n",
       "<table border=\"1\" class=\"dataframe\">\n",
       "  <thead>\n",
       "    <tr style=\"text-align: right;\">\n",
       "      <th></th>\n",
       "      <th>Age</th>\n",
       "      <th>Na_to_K</th>\n",
       "      <th>Sex_M</th>\n",
       "      <th>BP_LOW</th>\n",
       "      <th>BP_NORMAL</th>\n",
       "    </tr>\n",
       "  </thead>\n",
       "  <tbody>\n",
       "    <tr>\n",
       "      <th>0</th>\n",
       "      <td>23</td>\n",
       "      <td>25.355</td>\n",
       "      <td>False</td>\n",
       "      <td>False</td>\n",
       "      <td>False</td>\n",
       "    </tr>\n",
       "    <tr>\n",
       "      <th>1</th>\n",
       "      <td>47</td>\n",
       "      <td>13.093</td>\n",
       "      <td>True</td>\n",
       "      <td>True</td>\n",
       "      <td>False</td>\n",
       "    </tr>\n",
       "    <tr>\n",
       "      <th>2</th>\n",
       "      <td>47</td>\n",
       "      <td>10.114</td>\n",
       "      <td>True</td>\n",
       "      <td>True</td>\n",
       "      <td>False</td>\n",
       "    </tr>\n",
       "    <tr>\n",
       "      <th>3</th>\n",
       "      <td>28</td>\n",
       "      <td>7.798</td>\n",
       "      <td>False</td>\n",
       "      <td>False</td>\n",
       "      <td>True</td>\n",
       "    </tr>\n",
       "    <tr>\n",
       "      <th>4</th>\n",
       "      <td>61</td>\n",
       "      <td>18.043</td>\n",
       "      <td>False</td>\n",
       "      <td>True</td>\n",
       "      <td>False</td>\n",
       "    </tr>\n",
       "  </tbody>\n",
       "</table>\n",
       "</div>"
      ],
      "text/plain": [
       "   Age  Na_to_K  Sex_M  BP_LOW  BP_NORMAL\n",
       "0   23   25.355  False   False      False\n",
       "1   47   13.093   True    True      False\n",
       "2   47   10.114   True    True      False\n",
       "3   28    7.798  False   False       True\n",
       "4   61   18.043  False    True      False"
      ]
     },
     "execution_count": 91,
     "metadata": {},
     "output_type": "execute_result"
    }
   ],
   "source": [
    "X.head()"
   ]
  },
  {
   "cell_type": "code",
   "execution_count": 92,
   "id": "fb9a9b41",
   "metadata": {},
   "outputs": [
    {
     "data": {
      "text/html": [
       "<div>\n",
       "<style scoped>\n",
       "    .dataframe tbody tr th:only-of-type {\n",
       "        vertical-align: middle;\n",
       "    }\n",
       "\n",
       "    .dataframe tbody tr th {\n",
       "        vertical-align: top;\n",
       "    }\n",
       "\n",
       "    .dataframe thead th {\n",
       "        text-align: right;\n",
       "    }\n",
       "</style>\n",
       "<table border=\"1\" class=\"dataframe\">\n",
       "  <thead>\n",
       "    <tr style=\"text-align: right;\">\n",
       "      <th></th>\n",
       "      <th>Drug</th>\n",
       "    </tr>\n",
       "  </thead>\n",
       "  <tbody>\n",
       "    <tr>\n",
       "      <th>0</th>\n",
       "      <td>DrugY</td>\n",
       "    </tr>\n",
       "    <tr>\n",
       "      <th>1</th>\n",
       "      <td>drugC</td>\n",
       "    </tr>\n",
       "    <tr>\n",
       "      <th>2</th>\n",
       "      <td>drugC</td>\n",
       "    </tr>\n",
       "    <tr>\n",
       "      <th>3</th>\n",
       "      <td>drugX</td>\n",
       "    </tr>\n",
       "    <tr>\n",
       "      <th>4</th>\n",
       "      <td>DrugY</td>\n",
       "    </tr>\n",
       "  </tbody>\n",
       "</table>\n",
       "</div>"
      ],
      "text/plain": [
       "    Drug\n",
       "0  DrugY\n",
       "1  drugC\n",
       "2  drugC\n",
       "3  drugX\n",
       "4  DrugY"
      ]
     },
     "execution_count": 92,
     "metadata": {},
     "output_type": "execute_result"
    }
   ],
   "source": [
    "Y.head()"
   ]
  },
  {
   "cell_type": "code",
   "execution_count": 93,
   "id": "8fb32763",
   "metadata": {},
   "outputs": [],
   "source": [
    "classifier = tree.DecisionTreeClassifier()\n",
    "classifier = classifier.fit(X, Y)"
   ]
  },
  {
   "cell_type": "code",
   "execution_count": 94,
   "id": "793c1c39",
   "metadata": {},
   "outputs": [
    {
     "data": {
      "text/plain": [
       "[Text(0.328125, 0.9545454545454546, 'x[1] <= 14.829\\ngini = 0.694\\nsamples = 200\\nvalue = [91, 23, 16, 16, 54]'),\n",
       " Text(0.2864583333333333, 0.8636363636363636, 'x[4] <= 0.5\\ngini = 0.667\\nsamples = 109\\nvalue = [0, 23, 16, 16, 54]'),\n",
       " Text(0.24479166666666666, 0.7727272727272727, 'x[3] <= 0.5\\ngini = 0.744\\nsamples = 73\\nvalue = [0, 23, 16, 16, 18]'),\n",
       " Text(0.08333333333333333, 0.6818181818181818, 'x[0] <= 50.5\\ngini = 0.484\\nsamples = 39\\nvalue = [0, 23, 16, 0, 0]'),\n",
       " Text(0.041666666666666664, 0.5909090909090909, 'gini = 0.0\\nsamples = 23\\nvalue = [0, 23, 0, 0, 0]'),\n",
       " Text(0.125, 0.5909090909090909, 'gini = 0.0\\nsamples = 16\\nvalue = [0, 0, 16, 0, 0]'),\n",
       " Text(0.40625, 0.6818181818181818, 'x[0] <= 30.0\\ngini = 0.498\\nsamples = 34\\nvalue = [0, 0, 0, 16, 18]'),\n",
       " Text(0.20833333333333334, 0.5909090909090909, 'x[0] <= 21.0\\ngini = 0.278\\nsamples = 6\\nvalue = [0, 0, 0, 5, 1]'),\n",
       " Text(0.16666666666666666, 0.5, 'x[2] <= 0.5\\ngini = 0.5\\nsamples = 2\\nvalue = [0, 0, 0, 1, 1]'),\n",
       " Text(0.125, 0.4090909090909091, 'gini = 0.0\\nsamples = 1\\nvalue = [0, 0, 0, 0, 1]'),\n",
       " Text(0.20833333333333334, 0.4090909090909091, 'gini = 0.0\\nsamples = 1\\nvalue = [0, 0, 0, 1, 0]'),\n",
       " Text(0.25, 0.5, 'gini = 0.0\\nsamples = 4\\nvalue = [0, 0, 0, 4, 0]'),\n",
       " Text(0.6041666666666666, 0.5909090909090909, 'x[0] <= 46.0\\ngini = 0.477\\nsamples = 28\\nvalue = [0, 0, 0, 11, 17]'),\n",
       " Text(0.375, 0.5, 'x[0] <= 33.0\\ngini = 0.278\\nsamples = 12\\nvalue = [0, 0, 0, 2, 10]'),\n",
       " Text(0.2916666666666667, 0.4090909090909091, 'x[1] <= 10.276\\ngini = 0.5\\nsamples = 2\\nvalue = [0, 0, 0, 1, 1]'),\n",
       " Text(0.25, 0.3181818181818182, 'gini = 0.0\\nsamples = 1\\nvalue = [0, 0, 0, 1, 0]'),\n",
       " Text(0.3333333333333333, 0.3181818181818182, 'gini = 0.0\\nsamples = 1\\nvalue = [0, 0, 0, 0, 1]'),\n",
       " Text(0.4583333333333333, 0.4090909090909091, 'x[0] <= 40.5\\ngini = 0.18\\nsamples = 10\\nvalue = [0, 0, 0, 1, 9]'),\n",
       " Text(0.4166666666666667, 0.3181818181818182, 'gini = 0.0\\nsamples = 7\\nvalue = [0, 0, 0, 0, 7]'),\n",
       " Text(0.5, 0.3181818181818182, 'x[0] <= 43.0\\ngini = 0.444\\nsamples = 3\\nvalue = [0, 0, 0, 1, 2]'),\n",
       " Text(0.4583333333333333, 0.22727272727272727, 'gini = 0.0\\nsamples = 1\\nvalue = [0, 0, 0, 1, 0]'),\n",
       " Text(0.5416666666666666, 0.22727272727272727, 'gini = 0.0\\nsamples = 2\\nvalue = [0, 0, 0, 0, 2]'),\n",
       " Text(0.8333333333333334, 0.5, 'x[1] <= 13.345\\ngini = 0.492\\nsamples = 16\\nvalue = [0, 0, 0, 9, 7]'),\n",
       " Text(0.7916666666666666, 0.4090909090909091, 'x[0] <= 60.0\\ngini = 0.426\\nsamples = 13\\nvalue = [0, 0, 0, 9, 4]'),\n",
       " Text(0.6666666666666666, 0.3181818181818182, 'x[0] <= 48.0\\ngini = 0.219\\nsamples = 8\\nvalue = [0, 0, 0, 7, 1]'),\n",
       " Text(0.625, 0.22727272727272727, 'gini = 0.0\\nsamples = 4\\nvalue = [0, 0, 0, 4, 0]'),\n",
       " Text(0.7083333333333334, 0.22727272727272727, 'x[2] <= 0.5\\ngini = 0.375\\nsamples = 4\\nvalue = [0, 0, 0, 3, 1]'),\n",
       " Text(0.6666666666666666, 0.13636363636363635, 'gini = 0.0\\nsamples = 2\\nvalue = [0, 0, 0, 2, 0]'),\n",
       " Text(0.75, 0.13636363636363635, 'x[1] <= 10.775\\ngini = 0.5\\nsamples = 2\\nvalue = [0, 0, 0, 1, 1]'),\n",
       " Text(0.7083333333333334, 0.045454545454545456, 'gini = 0.0\\nsamples = 1\\nvalue = [0, 0, 0, 1, 0]'),\n",
       " Text(0.7916666666666666, 0.045454545454545456, 'gini = 0.0\\nsamples = 1\\nvalue = [0, 0, 0, 0, 1]'),\n",
       " Text(0.9166666666666666, 0.3181818181818182, 'x[1] <= 10.873\\ngini = 0.48\\nsamples = 5\\nvalue = [0, 0, 0, 2, 3]'),\n",
       " Text(0.875, 0.22727272727272727, 'x[2] <= 0.5\\ngini = 0.444\\nsamples = 3\\nvalue = [0, 0, 0, 2, 1]'),\n",
       " Text(0.8333333333333334, 0.13636363636363635, 'gini = 0.0\\nsamples = 1\\nvalue = [0, 0, 0, 0, 1]'),\n",
       " Text(0.9166666666666666, 0.13636363636363635, 'gini = 0.0\\nsamples = 2\\nvalue = [0, 0, 0, 2, 0]'),\n",
       " Text(0.9583333333333334, 0.22727272727272727, 'gini = 0.0\\nsamples = 2\\nvalue = [0, 0, 0, 0, 2]'),\n",
       " Text(0.875, 0.4090909090909091, 'gini = 0.0\\nsamples = 3\\nvalue = [0, 0, 0, 0, 3]'),\n",
       " Text(0.328125, 0.7727272727272727, 'gini = 0.0\\nsamples = 36\\nvalue = [0, 0, 0, 0, 36]'),\n",
       " Text(0.3697916666666667, 0.8636363636363636, 'gini = 0.0\\nsamples = 91\\nvalue = [91, 0, 0, 0, 0]')]"
      ]
     },
     "execution_count": 94,
     "metadata": {},
     "output_type": "execute_result"
    },
    {
     "data": {
      "image/png": "[encoded data removed]",
      "text/plain": [
       "<Figure size 640x480 with 1 Axes>"
      ]
     },
     "metadata": {},
     "output_type": "display_data"
    }
   ],
   "source": [
    "tree.plot_tree(classifier)"
   ]
  },
  {
   "cell_type": "code",
   "execution_count": null,
   "id": "c4ebea8d",
   "metadata": {},
   "outputs": [],
   "source": []
  }
 ],
 "metadata": {
  "kernelspec": {
   "display_name": "Python 3 (ipykernel)",
   "language": "python",
   "name": "python3"
  },
  "language_info": {
   "codemirror_mode": {
    "name": "ipython",
    "version": 3
   },
   "file_extension": ".py",
   "mimetype": "text/x-python",
   "name": "python",
   "nbconvert_exporter": "python",
   "pygments_lexer": "ipython3",
   "version": "3.11.5"
  }
 },
 "nbformat": 4,
 "nbformat_minor": 5
}
